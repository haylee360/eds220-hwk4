{
 "cells": [
  {
   "cell_type": "markdown",
   "metadata": {},
   "source": [
    "# HW 4 Task 2 False Color Imagery"
   ]
  },
  {
   "cell_type": "code",
   "execution_count": null,
   "metadata": {},
   "outputs": [],
   "source": [
    "\n",
    "import os\n",
    "import pandas as pd\n",
    "import matplotlib.pyplot as plt\n",
    "import geopandas as gpd\n",
    "\n",
    "from shapely.geometry import box  # To create polygon bounding box\n",
    "\n",
    "pd.set_option(\"display.max.columns\", None)\n",
    "\n",
    "# -------------------------------------\n",
    "# Import and simplify states polygons\n",
    "# states = gpd.read_file(os.path.join('data',\n",
    "#                                     'California_Fire_Perimeters_(all).shp')\n",
    "#                                     )"
   ]
  }
 ],
 "metadata": {
  "kernelspec": {
   "display_name": "eds220-env",
   "language": "python",
   "name": "python3"
  },
  "language_info": {
   "name": "python",
   "version": "3.11.4"
  }
 },
 "nbformat": 4,
 "nbformat_minor": 2
}
