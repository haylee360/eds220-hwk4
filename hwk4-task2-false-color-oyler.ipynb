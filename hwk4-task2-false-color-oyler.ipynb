{
 "cells": [
  {
   "cell_type": "markdown",
   "metadata": {},
   "source": [
    "# HW 4 Task 2 False Color Imagery\n",
    "\n",
    "**Link to github repo:** https://github.com/haylee360/eds220-hwk4 \n",
    "\n",
    "## "
   ]
  },
  {
   "cell_type": "code",
   "execution_count": 1,
   "metadata": {},
   "outputs": [],
   "source": [
    "# Import libraries\n",
    "import os\n",
    "import pandas as pd\n",
    "import matplotlib.pyplot as plt\n",
    "import geopandas as gpd\n",
    "import rioxarray as rioxr\n",
    "\n",
    "from shapely.geometry import box  # To create polygon bounding box\n",
    "\n",
    "pd.set_option(\"display.max.columns\", None)\n",
    "\n",
    "# -------------------------------------\n",
    "# Import and simplify states polygons\n",
    "states = rioxr.open_rasterio(os.path.join('data',\n",
    "                                    'landsat8-2018-01-26-sb-simplified.nc')\n",
    "                                    )"
   ]
  },
  {
   "cell_type": "markdown",
   "metadata": {},
   "source": [
    "3. True color image\n",
    "Construct a file path to the Landsat data using os and import it using rioxr.open_rasterio().\n",
    "\n",
    "Explore the data and write a brief summary of the information you obtained from the preliminary information. Your summary should include the a description of the data’s variables and dimensions.\n",
    "\n",
    "Drop the band dimension of the data. HINT: squeeze() and drop_vars().\n",
    "\n",
    "Without creating any new variables:\n",
    "\n",
    "select the red, green, and blue variables (in that order) of the xarray.Dataset holding the Landsat data,\n",
    "\n",
    "convert it to a numpy.array using the to_array() method, and then\n",
    "use .plot.imshow() to create an RGB image with the data. There will be a warning, that’s ok.\n",
    "Adjust the scale used for plotting the bands to get a true color image. HINT: Check the robust parameter. The issue here is the clouds: their RGB values are outliers and cause the other values to be squished when plotting.\n",
    "\n",
    "In a markdown cell write a brief explanation comparing the ouputs for parts (a) and (b)."
   ]
  }
 ],
 "metadata": {
  "kernelspec": {
   "display_name": "eds220-env",
   "language": "python",
   "name": "python3"
  },
  "language_info": {
   "codemirror_mode": {
    "name": "ipython",
    "version": 3
   },
   "file_extension": ".py",
   "mimetype": "text/x-python",
   "name": "python",
   "nbconvert_exporter": "python",
   "pygments_lexer": "ipython3",
   "version": "3.11.4"
  }
 },
 "nbformat": 4,
 "nbformat_minor": 2
}
