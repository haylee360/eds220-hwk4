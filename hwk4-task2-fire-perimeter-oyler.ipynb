{
 "cells": [
  {
   "cell_type": "markdown",
   "metadata": {},
   "source": [
    "# HW4 Task 2 Fire Perimeter\n",
    "\n",
    "Author: Haylee Oyler\n",
    "\n",
    "**Link to github repo:** https://github.com/haylee360/eds220-hwk4 "
   ]
  },
  {
   "cell_type": "markdown",
   "metadata": {},
   "source": [
    "## About\n",
    "\n",
    "**Purpose:** This notebook details the steps to select a specific fire perimter for the 2017 Thomas Fire in Santa Barbara and Ventura County. This fire burned over 280,000 acres and was one of the largest fires in the state at the time. \n",
    "\n",
    "**Highlights:** \n",
    "- Importing and exploring our geospatial fire perimeter data\n",
    "- Select geospatial data specific to the 2017 Thomas Fire\n",
    "- Export the Thomas Fire geospatial data to use in our next notebook\n",
    "\n",
    "**About the Data:**\n",
    "\n",
    "**References:** [CalFire Fire Perimeter Data](https://www.fire.ca.gov/what-we-do/fire-resource-assessment-program/fire-perimeters) \n",
    "\n",
    "\n",
    "## Fire perimeter data retrieval and selection"
   ]
  },
  {
   "cell_type": "markdown",
   "metadata": {},
   "source": [
    "### Import data and explore\n",
    "Import the geodatabase containing all fire perimeters in California. "
   ]
  },
  {
   "cell_type": "code",
   "execution_count": null,
   "metadata": {},
   "outputs": [],
   "source": [
    "# Load libraries\n",
    "import os\n",
    "import pandas as pd\n",
    "import matplotlib.pyplot as plt\n",
    "import geopandas as gpd\n",
    "\n",
    "# Change display settings to see all column names\n",
    "pd.set_option(\"display.max.columns\", None)\n",
    "\n",
    "# Import fire perimeter data\n",
    "perimeters = gpd.read_file(os.path.join('no_push_data',\n",
    "                                    'calfire_all.gdb')\n",
    "                                    )\n"
   ]
  },
  {
   "cell_type": "code",
   "execution_count": 2,
   "metadata": {},
   "outputs": [
    {
     "data": {
      "text/html": [
       "<div>\n",
       "<style scoped>\n",
       "    .dataframe tbody tr th:only-of-type {\n",
       "        vertical-align: middle;\n",
       "    }\n",
       "\n",
       "    .dataframe tbody tr th {\n",
       "        vertical-align: top;\n",
       "    }\n",
       "\n",
       "    .dataframe thead th {\n",
       "        text-align: right;\n",
       "    }\n",
       "</style>\n",
       "<table border=\"1\" class=\"dataframe\">\n",
       "  <thead>\n",
       "    <tr style=\"text-align: right;\">\n",
       "      <th></th>\n",
       "      <th>YEAR_</th>\n",
       "      <th>STATE</th>\n",
       "      <th>AGENCY</th>\n",
       "      <th>UNIT_ID</th>\n",
       "      <th>FIRE_NAME</th>\n",
       "      <th>INC_NUM</th>\n",
       "      <th>IRWINID</th>\n",
       "      <th>ALARM_DATE</th>\n",
       "      <th>CONT_DATE</th>\n",
       "      <th>C_METHOD</th>\n",
       "      <th>CAUSE</th>\n",
       "      <th>OBJECTIVE</th>\n",
       "      <th>COMPLEX_NAME</th>\n",
       "      <th>COMPLEX_ID</th>\n",
       "      <th>COMMENTS</th>\n",
       "      <th>FIRE_NUM</th>\n",
       "      <th>Shape_Length</th>\n",
       "      <th>Shape_Area</th>\n",
       "      <th>geometry</th>\n",
       "    </tr>\n",
       "  </thead>\n",
       "  <tbody>\n",
       "    <tr>\n",
       "      <th>0</th>\n",
       "      <td>2023.0</td>\n",
       "      <td>CA</td>\n",
       "      <td>CDF</td>\n",
       "      <td>SKU</td>\n",
       "      <td>WHITWORTH</td>\n",
       "      <td>00004808</td>\n",
       "      <td>{7985848C-0AC2-4BA4-8F0E-29F778652E61}</td>\n",
       "      <td>2023-06-17T00:00:00+00:00</td>\n",
       "      <td>2023-06-17T00:00:00+00:00</td>\n",
       "      <td>1.0</td>\n",
       "      <td>5.0</td>\n",
       "      <td>1.0</td>\n",
       "      <td>None</td>\n",
       "      <td>None</td>\n",
       "      <td>None</td>\n",
       "      <td>None</td>\n",
       "      <td>933.907127</td>\n",
       "      <td>23184.946763</td>\n",
       "      <td>MULTIPOLYGON (((-243242.555 394267.371, -24324...</td>\n",
       "    </tr>\n",
       "    <tr>\n",
       "      <th>1</th>\n",
       "      <td>2023.0</td>\n",
       "      <td>CA</td>\n",
       "      <td>LRA</td>\n",
       "      <td>BTU</td>\n",
       "      <td>KAISER</td>\n",
       "      <td>00010225</td>\n",
       "      <td>{43EBCC88-B3AC-48EB-8EF5-417FE0939CCF}</td>\n",
       "      <td>2023-06-02T00:00:00+00:00</td>\n",
       "      <td>2023-06-02T00:00:00+00:00</td>\n",
       "      <td>1.0</td>\n",
       "      <td>5.0</td>\n",
       "      <td>1.0</td>\n",
       "      <td>None</td>\n",
       "      <td>None</td>\n",
       "      <td>None</td>\n",
       "      <td>None</td>\n",
       "      <td>986.343353</td>\n",
       "      <td>55046.898792</td>\n",
       "      <td>MULTIPOLYGON (((-167826.147 203275.612, -16782...</td>\n",
       "    </tr>\n",
       "    <tr>\n",
       "      <th>2</th>\n",
       "      <td>2023.0</td>\n",
       "      <td>CA</td>\n",
       "      <td>CDF</td>\n",
       "      <td>AEU</td>\n",
       "      <td>JACKSON</td>\n",
       "      <td>00017640</td>\n",
       "      <td>{B64E1355-BF1D-441A-95D0-BC1FBB93483B}</td>\n",
       "      <td>2023-07-01T00:00:00+00:00</td>\n",
       "      <td>2023-07-02T00:00:00+00:00</td>\n",
       "      <td>1.0</td>\n",
       "      <td>2.0</td>\n",
       "      <td>1.0</td>\n",
       "      <td>None</td>\n",
       "      <td>None</td>\n",
       "      <td>None</td>\n",
       "      <td>None</td>\n",
       "      <td>2115.572740</td>\n",
       "      <td>112561.147688</td>\n",
       "      <td>MULTIPOLYGON (((-79176.443 31393.490, -78959.0...</td>\n",
       "    </tr>\n",
       "    <tr>\n",
       "      <th>3</th>\n",
       "      <td>2023.0</td>\n",
       "      <td>CA</td>\n",
       "      <td>CDF</td>\n",
       "      <td>AEU</td>\n",
       "      <td>CARBON</td>\n",
       "      <td>00018821</td>\n",
       "      <td>{CB41DB0A-E4B1-489D-A4EA-738F2CD6DB3B}</td>\n",
       "      <td>2023-07-11T00:00:00+00:00</td>\n",
       "      <td>2023-07-11T00:00:00+00:00</td>\n",
       "      <td>1.0</td>\n",
       "      <td>9.0</td>\n",
       "      <td>1.0</td>\n",
       "      <td>None</td>\n",
       "      <td>None</td>\n",
       "      <td>None</td>\n",
       "      <td>None</td>\n",
       "      <td>1994.866526</td>\n",
       "      <td>237794.210367</td>\n",
       "      <td>MULTIPOLYGON (((-85936.934 47921.886, -85856.4...</td>\n",
       "    </tr>\n",
       "    <tr>\n",
       "      <th>4</th>\n",
       "      <td>2023.0</td>\n",
       "      <td>CA</td>\n",
       "      <td>CDF</td>\n",
       "      <td>AEU</td>\n",
       "      <td>LIBERTY</td>\n",
       "      <td>00018876</td>\n",
       "      <td>{F83F70A4-07A7-40B8-BD51-10CCC1C30D63}</td>\n",
       "      <td>2023-07-11T00:00:00+00:00</td>\n",
       "      <td>2023-07-12T00:00:00+00:00</td>\n",
       "      <td>1.0</td>\n",
       "      <td>14.0</td>\n",
       "      <td>1.0</td>\n",
       "      <td>None</td>\n",
       "      <td>None</td>\n",
       "      <td>None</td>\n",
       "      <td>None</td>\n",
       "      <td>4008.305800</td>\n",
       "      <td>287241.810389</td>\n",
       "      <td>MULTIPOLYGON (((-86427.836 26461.613, -86436.1...</td>\n",
       "    </tr>\n",
       "  </tbody>\n",
       "</table>\n",
       "</div>"
      ],
      "text/plain": [
       "    YEAR_ STATE AGENCY UNIT_ID  FIRE_NAME   INC_NUM  \\\n",
       "0  2023.0    CA    CDF     SKU  WHITWORTH  00004808   \n",
       "1  2023.0    CA    LRA     BTU     KAISER  00010225   \n",
       "2  2023.0    CA    CDF     AEU    JACKSON  00017640   \n",
       "3  2023.0    CA    CDF     AEU     CARBON  00018821   \n",
       "4  2023.0    CA    CDF     AEU    LIBERTY  00018876   \n",
       "\n",
       "                                  IRWINID                 ALARM_DATE  \\\n",
       "0  {7985848C-0AC2-4BA4-8F0E-29F778652E61}  2023-06-17T00:00:00+00:00   \n",
       "1  {43EBCC88-B3AC-48EB-8EF5-417FE0939CCF}  2023-06-02T00:00:00+00:00   \n",
       "2  {B64E1355-BF1D-441A-95D0-BC1FBB93483B}  2023-07-01T00:00:00+00:00   \n",
       "3  {CB41DB0A-E4B1-489D-A4EA-738F2CD6DB3B}  2023-07-11T00:00:00+00:00   \n",
       "4  {F83F70A4-07A7-40B8-BD51-10CCC1C30D63}  2023-07-11T00:00:00+00:00   \n",
       "\n",
       "                   CONT_DATE  C_METHOD  CAUSE  OBJECTIVE COMPLEX_NAME  \\\n",
       "0  2023-06-17T00:00:00+00:00       1.0    5.0        1.0         None   \n",
       "1  2023-06-02T00:00:00+00:00       1.0    5.0        1.0         None   \n",
       "2  2023-07-02T00:00:00+00:00       1.0    2.0        1.0         None   \n",
       "3  2023-07-11T00:00:00+00:00       1.0    9.0        1.0         None   \n",
       "4  2023-07-12T00:00:00+00:00       1.0   14.0        1.0         None   \n",
       "\n",
       "  COMPLEX_ID COMMENTS FIRE_NUM  Shape_Length     Shape_Area  \\\n",
       "0       None     None     None    933.907127   23184.946763   \n",
       "1       None     None     None    986.343353   55046.898792   \n",
       "2       None     None     None   2115.572740  112561.147688   \n",
       "3       None     None     None   1994.866526  237794.210367   \n",
       "4       None     None     None   4008.305800  287241.810389   \n",
       "\n",
       "                                            geometry  \n",
       "0  MULTIPOLYGON (((-243242.555 394267.371, -24324...  \n",
       "1  MULTIPOLYGON (((-167826.147 203275.612, -16782...  \n",
       "2  MULTIPOLYGON (((-79176.443 31393.490, -78959.0...  \n",
       "3  MULTIPOLYGON (((-85936.934 47921.886, -85856.4...  \n",
       "4  MULTIPOLYGON (((-86427.836 26461.613, -86436.1...  "
      ]
     },
     "execution_count": 2,
     "metadata": {},
     "output_type": "execute_result"
    }
   ],
   "source": [
    "# View the first five rows of the perimeter data frame\n",
    "perimeters.head()"
   ]
  },
  {
   "cell_type": "code",
   "execution_count": 3,
   "metadata": {},
   "outputs": [
    {
     "name": "stdout",
     "output_type": "stream",
     "text": [
      "<class 'geopandas.geodataframe.GeoDataFrame'>\n",
      "RangeIndex: 22261 entries, 0 to 22260\n",
      "Data columns (total 19 columns):\n",
      " #   Column        Non-Null Count  Dtype   \n",
      "---  ------        --------------  -----   \n",
      " 0   YEAR_         22184 non-null  float64 \n",
      " 1   STATE         22261 non-null  object  \n",
      " 2   AGENCY        22208 non-null  object  \n",
      " 3   UNIT_ID       22197 non-null  object  \n",
      " 4   FIRE_NAME     22199 non-null  object  \n",
      " 5   INC_NUM       21566 non-null  object  \n",
      " 6   IRWINID       3296 non-null   object  \n",
      " 7   ALARM_DATE    16865 non-null  object  \n",
      " 8   CONT_DATE     9632 non-null   object  \n",
      " 9   C_METHOD      10140 non-null  float64 \n",
      " 10  CAUSE         22237 non-null  float64 \n",
      " 11  OBJECTIVE     22014 non-null  float64 \n",
      " 12  COMPLEX_NAME  608 non-null    object  \n",
      " 13  COMPLEX_ID    360 non-null    object  \n",
      " 14  COMMENTS      20034 non-null  object  \n",
      " 15  FIRE_NUM      17643 non-null  object  \n",
      " 16  Shape_Length  22261 non-null  float64 \n",
      " 17  Shape_Area    22261 non-null  float64 \n",
      " 18  geometry      22261 non-null  geometry\n",
      "dtypes: float64(6), geometry(1), object(12)\n",
      "memory usage: 3.2+ MB\n"
     ]
    }
   ],
   "source": [
    "# View information about the perimeter data frame\n",
    "perimeters.info()"
   ]
  },
  {
   "cell_type": "code",
   "execution_count": 4,
   "metadata": {},
   "outputs": [
    {
     "data": {
      "text/plain": [
       "<Projected CRS: EPSG:3310>\n",
       "Name: NAD83 / California Albers\n",
       "Axis Info [cartesian]:\n",
       "- X[east]: Easting (metre)\n",
       "- Y[north]: Northing (metre)\n",
       "Area of Use:\n",
       "- name: United States (USA) - California.\n",
       "- bounds: (-124.45, 32.53, -114.12, 42.01)\n",
       "Coordinate Operation:\n",
       "- name: California Albers\n",
       "- method: Albers Equal Area\n",
       "Datum: North American Datum 1983\n",
       "- Ellipsoid: GRS 1980\n",
       "- Prime Meridian: Greenwich"
      ]
     },
     "execution_count": 4,
     "metadata": {},
     "output_type": "execute_result"
    }
   ],
   "source": [
    "# Check the perimeter CRS \n",
    "perimeters.crs"
   ]
  },
  {
   "cell_type": "code",
   "execution_count": 5,
   "metadata": {},
   "outputs": [
    {
     "name": "stdout",
     "output_type": "stream",
     "text": [
      "1878.0\n",
      "2023.0\n"
     ]
    }
   ],
   "source": [
    "# Find the min and max year of the df\n",
    "print(perimeters.YEAR_.min())\n",
    "print(perimeters.YEAR_.max())"
   ]
  },
  {
   "cell_type": "markdown",
   "metadata": {},
   "source": [
    "#### Data description\n",
    "This fire perimeter data comes from CalFire and includes data for all fire perimeters from 1878 to 2023. It has data on the year, the fire name, the reporting agency, the cause, duration, among other data. The CRS is NAD83 California Albers and it is a projected CRS (EPSG:3310)"
   ]
  },
  {
   "cell_type": "markdown",
   "metadata": {},
   "source": [
    "### Select Thomas Fire Boundary "
   ]
  },
  {
   "cell_type": "code",
   "execution_count": 6,
   "metadata": {},
   "outputs": [],
   "source": [
    "# Clean all column names\n",
    "perimeters.columns = perimeters.columns.str.lower()\n",
    "\n",
    "# Clean year column name\n",
    "perimeters = perimeters.rename(columns={'year_': 'year'})"
   ]
  },
  {
   "cell_type": "code",
   "execution_count": 3,
   "metadata": {},
   "outputs": [
    {
     "ename": "NameError",
     "evalue": "name 'perimeters' is not defined",
     "output_type": "error",
     "traceback": [
      "\u001b[0;31m---------------------------------------------------------------------------\u001b[0m",
      "\u001b[0;31mNameError\u001b[0m                                 Traceback (most recent call last)",
      "Cell \u001b[0;32mIn[3], line 2\u001b[0m\n\u001b[1;32m      1\u001b[0m \u001b[38;5;66;03m# Select 2017 thomas fire boundary\u001b[39;00m\n\u001b[0;32m----> 2\u001b[0m thomas_boundary \u001b[38;5;241m=\u001b[39m \u001b[43mperimeters\u001b[49m[(perimeters[\u001b[38;5;124m'\u001b[39m\u001b[38;5;124myear\u001b[39m\u001b[38;5;124m'\u001b[39m] \u001b[38;5;241m==\u001b[39m \u001b[38;5;241m2017.0\u001b[39m) \u001b[38;5;241m&\u001b[39m (perimeters[\u001b[38;5;124m'\u001b[39m\u001b[38;5;124mfire_name\u001b[39m\u001b[38;5;124m'\u001b[39m] \u001b[38;5;241m==\u001b[39m \u001b[38;5;124m'\u001b[39m\u001b[38;5;124mTHOMAS\u001b[39m\u001b[38;5;124m'\u001b[39m)]\n\u001b[1;32m      4\u001b[0m \u001b[38;5;66;03m# View the data to ensure it looks correct\u001b[39;00m\n\u001b[1;32m      5\u001b[0m thomas_boundary\u001b[38;5;241m.\u001b[39mplot()\n",
      "\u001b[0;31mNameError\u001b[0m: name 'perimeters' is not defined"
     ]
    }
   ],
   "source": [
    "# Select 2017 thomas fire boundary\n",
    "thomas_boundary = perimeters[(perimeters['year'] == 2017.0) & (perimeters['fire_name'] == 'THOMAS')]\n",
    "\n",
    "# View the data to ensure it looks correct\n",
    "thomas_boundary.plot()"
   ]
  },
  {
   "cell_type": "markdown",
   "metadata": {},
   "source": [
    "### Export the Thomas boundary as a `GeoJSON`"
   ]
  },
  {
   "cell_type": "code",
   "execution_count": 4,
   "metadata": {},
   "outputs": [
    {
     "ename": "NameError",
     "evalue": "name 'thomas_boundary' is not defined",
     "output_type": "error",
     "traceback": [
      "\u001b[0;31m---------------------------------------------------------------------------\u001b[0m",
      "\u001b[0;31mNameError\u001b[0m                                 Traceback (most recent call last)",
      "Cell \u001b[0;32mIn[4], line 2\u001b[0m\n\u001b[1;32m      1\u001b[0m \u001b[38;5;66;03m# Export thomas fire boundary \u001b[39;00m\n\u001b[0;32m----> 2\u001b[0m \u001b[43mthomas_boundary\u001b[49m\u001b[38;5;241m.\u001b[39mto_file(filename\u001b[38;5;241m=\u001b[39m\u001b[38;5;124m'\u001b[39m\u001b[38;5;124mdata/thomas_boundary.geojson\u001b[39m\u001b[38;5;124m'\u001b[39m, driver\u001b[38;5;241m=\u001b[39m\u001b[38;5;124m'\u001b[39m\u001b[38;5;124mGeoJSON\u001b[39m\u001b[38;5;124m'\u001b[39m)\n",
      "\u001b[0;31mNameError\u001b[0m: name 'thomas_boundary' is not defined"
     ]
    }
   ],
   "source": [
    "# Export thomas fire boundary \n",
    "thomas_boundary.to_file(filename='data/thomas_boundary.geojson', driver='GeoJSON')"
   ]
  },
  {
   "cell_type": "markdown",
   "metadata": {},
   "source": [
    "I chose to export as a GeoJSON file because it exports as a single file that is straightforward to import in my next jupyter markdown. A GeoJSON is also more compact and has a smaller file size compared to other geospatial data formats. "
   ]
  }
 ],
 "metadata": {
  "kernelspec": {
   "display_name": "eds220-env",
   "language": "python",
   "name": "python3"
  },
  "language_info": {
   "codemirror_mode": {
    "name": "ipython",
    "version": 3
   },
   "file_extension": ".py",
   "mimetype": "text/x-python",
   "name": "python",
   "nbconvert_exporter": "python",
   "pygments_lexer": "ipython3",
   "version": "3.11.4"
  }
 },
 "nbformat": 4,
 "nbformat_minor": 2
}
